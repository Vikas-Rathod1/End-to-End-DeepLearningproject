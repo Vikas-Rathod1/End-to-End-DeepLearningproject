{
 "cells": [
  {
   "cell_type": "code",
   "execution_count": 1,
   "metadata": {},
   "outputs": [],
   "source": [
    "import os"
   ]
  },
  {
   "cell_type": "code",
   "execution_count": 2,
   "metadata": {},
   "outputs": [
    {
     "data": {
      "text/plain": [
       "'/home/vikasrathod/vikasr/Courses_vikas_data/CV_Project/End-to-End-DeepLearningproject/research'"
      ]
     },
     "execution_count": 2,
     "metadata": {},
     "output_type": "execute_result"
    }
   ],
   "source": [
    "%pwd"
   ]
  },
  {
   "cell_type": "code",
   "execution_count": 3,
   "metadata": {},
   "outputs": [],
   "source": [
    "os.chdir(\"../\")"
   ]
  },
  {
   "cell_type": "code",
   "execution_count": 4,
   "metadata": {},
   "outputs": [
    {
     "data": {
      "text/plain": [
       "'/home/vikasrathod/vikasr/Courses_vikas_data/CV_Project/End-to-End-DeepLearningproject'"
      ]
     },
     "execution_count": 4,
     "metadata": {},
     "output_type": "execute_result"
    }
   ],
   "source": [
    "%pwd"
   ]
  },
  {
   "cell_type": "code",
   "execution_count": 5,
   "metadata": {},
   "outputs": [],
   "source": [
    "# Update the entity\n",
    "\n",
    "from dataclasses import dataclass # decorator \n",
    "from pathlib import Path\n",
    "\n",
    "# this is custom entity we created\n",
    "# now we are accessing different varible from other files(config/config.py) \n",
    "# in below class\n",
    "@dataclass(frozen=True)\n",
    "class DataIngestionConfig:\n",
    "    root_dir: Path\n",
    "    source_URL: str\n",
    "    local_data_file: Path\n",
    "    unzip_dir: Path\n",
    "\n",
    "# this class only return these values not other than these "
   ]
  },
  {
   "cell_type": "code",
   "execution_count": 6,
   "metadata": {},
   "outputs": [],
   "source": [
    "#pip install python-box"
   ]
  },
  {
   "cell_type": "code",
   "execution_count": 7,
   "metadata": {},
   "outputs": [],
   "source": [
    "from src.objectClassification.constants import *\n",
    "from src. objectClassification.utils.common import read_yaml, create_directories\n",
    "\n"
   ]
  },
  {
   "cell_type": "code",
   "execution_count": 8,
   "metadata": {},
   "outputs": [],
   "source": [
    "#### Update the configuration manager in src config"
   ]
  },
  {
   "cell_type": "code",
   "execution_count": 12,
   "metadata": {},
   "outputs": [],
   "source": [
    "class ConfigurationManager:\n",
    "    # check in side constant directory see __init__ constructor\n",
    "    def __init__(\n",
    "        self,\n",
    "        config_filepath = CONFIG_FILE_PATH,\n",
    "        params_filepath = PARAM_FILE_PATH):\n",
    "\n",
    "        self.config = read_yaml(config_filepath) #return Congif dictionary\n",
    "        self.params = read_yaml(params_filepath) #return Congif dictionary\n",
    "        \n",
    "        # create_directory calling from common.py\n",
    "        create_directories([self.config.artifacts_root]) \n",
    "        \n",
    "\n",
    "\n",
    "    # check inside config directory check config.yaml \n",
    "    def get_data_ingestion_config(self) -> DataIngestionConfig:\n",
    "        config = self.config.data_ingestion # this comming from config.yaml\n",
    "        print(\">>>>>>>>>>>>>>>>>.\",config)\n",
    "        create_directories([config.root_dir])\n",
    "\n",
    "        data_ingestion_config = DataIngestionConfig(\n",
    "            root_dir=config.root_dir,\n",
    "            source_URL=config.source_URL,\n",
    "            local_data_file=config.local_data_file,\n",
    "            unzip_dir=config.unzip_dir \n",
    "        )\n",
    "\n",
    "        return data_ingestion_config"
   ]
  },
  {
   "cell_type": "code",
   "execution_count": 13,
   "metadata": {},
   "outputs": [
    {
     "name": "stdout",
     "output_type": "stream",
     "text": [
      "[2024-08-26 10:08:48,026: INFO: common: yaml file: config/config.yaml loaded successfully]\n",
      "[2024-08-26 10:08:48,028: INFO: common: yaml file: params.yaml loaded successfully]\n",
      "[2024-08-26 10:08:48,028: INFO: common: created directory at: artifacts]\n"
     ]
    }
   ],
   "source": [
    "config = ConfigurationManager()\n",
    "#config.config.root_dir"
   ]
  },
  {
   "cell_type": "code",
   "execution_count": 14,
   "metadata": {},
   "outputs": [
    {
     "name": "stdout",
     "output_type": "stream",
     "text": [
      ">>>>>>>>>>>>>>>>>. {'root_dir': 'artifacts/data_ingestion', 'source_url': 'https://drive.google.com/file/d/1OOcaQ4Ep_eqmyV3hVOKJsoS_zX_EN8fp/view?usp=sharing', 'local_data_file': 'artifacts/data_ingestion/data.zip', 'unzip_dir': 'artifacts/data_ingestion'}\n",
      "[2024-08-26 10:08:48,860: INFO: common: created directory at: artifacts/data_ingestion]\n"
     ]
    }
   ],
   "source": [
    "d = config.get_data_ingestion_config()"
   ]
  },
  {
   "cell_type": "code",
   "execution_count": null,
   "metadata": {},
   "outputs": [],
   "source": []
  },
  {
   "cell_type": "code",
   "execution_count": 15,
   "metadata": {},
   "outputs": [],
   "source": [
    "# Data Ingestion Pipeline\n",
    "\n",
    "import os\n",
    "import zipfile\n",
    "import gdown\n",
    "from src.objectClassification import logger\n",
    "from src.objectClassification.utils.common import get_size\n",
    "\n",
    "\n",
    "class DataIngestion:\n",
    "    def __init__(self, config: DataIngestionConfig):\n",
    "        self.config = config # we will access all config params one by one\n",
    "\n",
    "    \n",
    "    def download_file(self)-> str: # type: ignore\n",
    "        '''\n",
    "        Fetch data from the url\n",
    "        '''\n",
    "\n",
    "        try: \n",
    "            dataset_url = self.config.source_URL\n",
    "            zip_download_dir = self.config.local_data_file\n",
    "            os.makedirs(\"artifacts/data_ingestion\", exist_ok=True)\n",
    "            logger.info(f\"Downloading data from {dataset_url} into file {zip_download_dir}\")\n",
    "            \n",
    "\n",
    "            # To get Unique file ID from gdrive\n",
    "            file_id = dataset_url.split(\"/\")[-2]\n",
    "            prefix = 'https://drive.google.com/uc?/export=download&id='\n",
    "            gdown.download(prefix+file_id,zip_download_dir)\n",
    "\n",
    "            logger.info(f\"Downloaded data from {dataset_url} into file {zip_download_dir}\")\n",
    "\n",
    "        except Exception as e:\n",
    "            raise e\n",
    "       \n",
    "    def extract_zip_file(self):\n",
    "        \"\"\"\n",
    "        zip_file_path: str\n",
    "        Extracts the zip file into the data directory\n",
    "        Function returns None\n",
    "        \"\"\"\n",
    "        unzip_path = self.config.unzip_dir\n",
    "        os.makedirs(unzip_path, exist_ok=True)\n",
    "        with zipfile.ZipFile(self.config.local_data_file, 'r') as zip_ref:\n",
    "            zip_ref.extractall(unzip_path)\n"
   ]
  },
  {
   "cell_type": "code",
   "execution_count": null,
   "metadata": {},
   "outputs": [],
   "source": []
  },
  {
   "cell_type": "code",
   "execution_count": null,
   "metadata": {},
   "outputs": [],
   "source": []
  },
  {
   "cell_type": "code",
   "execution_count": 13,
   "metadata": {},
   "outputs": [],
   "source": [
    "#config.get_data_ingestion_config()"
   ]
  },
  {
   "cell_type": "code",
   "execution_count": 16,
   "metadata": {},
   "outputs": [
    {
     "name": "stdout",
     "output_type": "stream",
     "text": [
      "[2024-08-26 10:08:55,864: INFO: common: yaml file: config/config.yaml loaded successfully]\n",
      "[2024-08-26 10:08:55,865: INFO: common: yaml file: params.yaml loaded successfully]\n",
      "[2024-08-26 10:08:55,866: INFO: common: created directory at: artifacts]\n",
      "000000000000000000\n",
      ">>>>>>>>>>>>>>>>>. {'root_dir': 'artifacts/data_ingestion', 'source_url': 'https://drive.google.com/file/d/1OOcaQ4Ep_eqmyV3hVOKJsoS_zX_EN8fp/view?usp=sharing', 'local_data_file': 'artifacts/data_ingestion/data.zip', 'unzip_dir': 'artifacts/data_ingestion'}\n",
      "[2024-08-26 10:08:55,867: INFO: common: created directory at: artifacts/data_ingestion]\n",
      ">>>>>>>>>>>>>>>>>>>>>>>>>>>>>>>>> DataIngestionConfig(root_dir='artifacts/data_ingestion', source_URL='https://drive.google.com/file/d/1OOcaQ4Ep_eqmyV3hVOKJsoS_zX_EN8fp/view?usp=sharing', local_data_file='artifacts/data_ingestion/data.zip', unzip_dir='artifacts/data_ingestion')\n",
      "[2024-08-26 10:08:55,867: INFO: 1542983971: Downloading data from https://drive.google.com/file/d/1OOcaQ4Ep_eqmyV3hVOKJsoS_zX_EN8fp/view?usp=sharing into file artifacts/data_ingestion/data.zip]\n"
     ]
    },
    {
     "name": "stderr",
     "output_type": "stream",
     "text": [
      "Downloading...\n",
      "From: https://drive.google.com/uc?/export=download&id=1OOcaQ4Ep_eqmyV3hVOKJsoS_zX_EN8fp\n",
      "To: /home/vikasrathod/vikasr/Courses_vikas_data/CV_Project/End-to-End-DeepLearningproject/artifacts/data_ingestion/data.zip\n",
      "100%|██████████| 20.0M/20.0M [00:03<00:00, 5.55MB/s]"
     ]
    },
    {
     "name": "stdout",
     "output_type": "stream",
     "text": [
      "[2024-08-26 10:09:06,173: INFO: 1542983971: Downloaded data from https://drive.google.com/file/d/1OOcaQ4Ep_eqmyV3hVOKJsoS_zX_EN8fp/view?usp=sharing into file artifacts/data_ingestion/data.zip]\n"
     ]
    },
    {
     "name": "stderr",
     "output_type": "stream",
     "text": [
      "\n"
     ]
    }
   ],
   "source": [
    "#Pipeline \n",
    "try:\n",
    "    config = ConfigurationManager()\n",
    "    print(\"000000000000000000\")\n",
    "    data_ingestion_config = config.get_data_ingestion_config()\n",
    "    print(\">>>>>>>>>>>>>>>>>>>>>>>>>>>>>>>>>\",data_ingestion_config)\n",
    "    data_ingestion = DataIngestion(config=data_ingestion_config)\n",
    "    data_ingestion.download_file()\n",
    "    data_ingestion.extract_zip_file()\n",
    "except Exception as e:\n",
    "    raise e"
   ]
  },
  {
   "cell_type": "code",
   "execution_count": null,
   "metadata": {},
   "outputs": [],
   "source": []
  }
 ],
 "metadata": {
  "kernelspec": {
   "display_name": "DL",
   "language": "python",
   "name": "python3"
  },
  "language_info": {
   "codemirror_mode": {
    "name": "ipython",
    "version": 3
   },
   "file_extension": ".py",
   "mimetype": "text/x-python",
   "name": "python",
   "nbconvert_exporter": "python",
   "pygments_lexer": "ipython3",
   "version": "3.10.12"
  }
 },
 "nbformat": 4,
 "nbformat_minor": 2
}
